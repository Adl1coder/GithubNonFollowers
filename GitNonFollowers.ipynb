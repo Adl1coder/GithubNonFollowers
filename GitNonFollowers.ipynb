{
  "nbformat": 4,
  "nbformat_minor": 0,
  "metadata": {
    "colab": {
      "provenance": [],
      "authorship_tag": "ABX9TyOF7ZDDBl5d7OlUGvVPU5xb",
      "include_colab_link": true
    },
    "kernelspec": {
      "name": "python3",
      "display_name": "Python 3"
    },
    "language_info": {
      "name": "python"
    }
  },
  "cells": [
    {
      "cell_type": "markdown",
      "metadata": {
        "id": "view-in-github",
        "colab_type": "text"
      },
      "source": [
        "<a href=\"https://colab.research.google.com/github/Adl1coder/GithubNonFollowers/blob/master/GitNonFollowers.ipynb\" target=\"_parent\"><img src=\"https://colab.research.google.com/assets/colab-badge.svg\" alt=\"Open In Colab\"/></a>"
      ]
    },
    {
      "cell_type": "code",
      "source": [
        "import requests\n",
        "\n",
        "def find_non_followers(username, token):\n",
        "    api_url = f\"https://api.github.com/users/{username}/following\"\n",
        "    headers = {\n",
        "        \"Authorization\": f\"token {token}\"\n",
        "    }\n",
        "    following_response = requests.get(api_url, headers=headers)\n",
        "    print(\"Following Response:\", following_response.text)\n",
        "    following = [user['login'] for user in following_response.json()]\n",
        "\n",
        "    followers_url = f\"https://api.github.com/users/{username}/followers\"\n",
        "    followers_response = requests.get(followers_url, headers=headers)\n",
        "    print(\"Followers Response:\", followers_response.text)\n",
        "    followers = [user['login'] for user in followers_response.json()]\n",
        "\n",
        "    non_followers = [user for user in following if user not in followers]\n",
        "\n",
        "    return non_followers\n",
        "\n",
        "\n",
        "github_username = \"Adl1coder\"\n",
        "github_token = \"your token\"\n",
        "\n",
        "non_followers = find_non_followers(github_username, github_token)\n",
        "\n",
        "print(\"Users not following you back:\")\n",
        "for user in non_followers:\n",
        "    print(user)\n"
      ],
      "metadata": {
        "id": "lNneaJBG_wOd"
      },
      "execution_count": null,
      "outputs": []
    }
  ]
}